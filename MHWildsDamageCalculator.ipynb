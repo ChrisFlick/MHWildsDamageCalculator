{
  "nbformat": 4,
  "nbformat_minor": 0,
  "metadata": {
    "colab": {
      "provenance": [],
      "include_colab_link": true
    },
    "kernelspec": {
      "name": "python3",
      "display_name": "Python 3"
    },
    "language_info": {
      "name": "python"
    }
  },
  "cells": [
    {
      "cell_type": "markdown",
      "metadata": {
        "id": "view-in-github",
        "colab_type": "text"
      },
      "source": [
        "<a href=\"https://colab.research.google.com/github/ChrisFlick/MHWildsDamageCalculator/blob/main/MHWildsDamageCalculator.ipynb\" target=\"_parent\"><img src=\"https://colab.research.google.com/assets/colab-badge.svg\" alt=\"Open In Colab\"/></a>"
      ]
    },
    {
      "cell_type": "markdown",
      "source": [
        "Press CTR+F9 to run code."
      ],
      "metadata": {
        "id": "sro3ss31z-9P"
      }
    },
    {
      "cell_type": "code",
      "source": [
        "# Edit the variables in the (EDIT THESE) sections then press CTR+F9.\n",
        "# Scroll down to the bottom to see the results"
      ],
      "metadata": {
        "id": "qa77lS5yWwVn"
      },
      "execution_count": 340,
      "outputs": []
    },
    {
      "cell_type": "markdown",
      "source": [
        "Enums"
      ],
      "metadata": {
        "id": "x_nBe1CwaZrt"
      }
    },
    {
      "cell_type": "code",
      "source": [
        "from enum import Enum\n",
        "\n",
        "class Sharpness(Enum):\n",
        "  Ranged = 0\n",
        "  Red = 1\n",
        "  Orange = 2\n",
        "  Yellow = 3\n",
        "  Green = 4\n",
        "  Blue = 5\n",
        "  White = 6\n",
        "\n",
        "class SongLevel(Enum):\n",
        "  NotPlayed = 0\n",
        "  S = 1\n",
        "  L = 2"
      ],
      "metadata": {
        "id": "32Ig_QY-ayXg"
      },
      "execution_count": 341,
      "outputs": []
    },
    {
      "cell_type": "markdown",
      "source": [
        "Weapon Variables (EDIT THESE)"
      ],
      "metadata": {
        "id": "v0ihAQ0MZ_dT"
      }
    },
    {
      "cell_type": "code",
      "source": [
        "# Change these variables to match your build\n",
        "# Enable \"Display Without Coefficient\" in game options.\n",
        "\n",
        "Attack = 210\n",
        "Element = 400\n",
        "Affinity = 0\n",
        "Sharpness = Sharpness.Yellow"
      ],
      "metadata": {
        "id": "oNvnRgycaCqy"
      },
      "execution_count": 342,
      "outputs": []
    },
    {
      "cell_type": "markdown",
      "source": [
        "Weapon Skill Variables (EDIT THESE)"
      ],
      "metadata": {
        "id": "hM0Df8gkU2WW"
      }
    },
    {
      "cell_type": "code",
      "execution_count": 343,
      "metadata": {
        "id": "1BSn3WQYmVOf"
      },
      "outputs": [],
      "source": [
        "# Change these variables to match your build\n",
        "\n",
        "Attack_Boost_Level = 0 # 0-5\n",
        "\n",
        "Critical_Boost_Level = 0 # 0-5\n",
        "Critical_Eye_Level = 0 # 0-5\n",
        "\n",
        "Critical_Element_Level = 0 # 0-3"
      ]
    },
    {
      "cell_type": "markdown",
      "source": [
        "Armor Skill Variables (EDIT THESE)"
      ],
      "metadata": {
        "id": "r9qm__oreMxo"
      }
    },
    {
      "cell_type": "code",
      "source": [
        "# Change these variables to match your build\n",
        "\n",
        "Adrenaline_Rush_Level = 0 # 0-5\n",
        "Adrenaline_Rush_Uptime = 0 # 0-100%\n",
        "\n",
        "Agitator_Level = 0 # 0-5\n",
        "Agitator_Uptime = 50 # 0-100%\n",
        "\n",
        "# Make sure to edit Overcome_Uptime under Sets\n",
        "Antivirus_Level = 0 # 0-3\n",
        "\n",
        "Foray_Level = 5 # 0-5\n",
        "Foray_Uptime = 50 # 0-100%\n",
        "\n",
        "Maximum_Might_Level = 0 # 0-3\n",
        "Maximum_Might_Uptime = 0 # 0-100%\n",
        "\n",
        "Weakness_Exploit_level = 0 # 0-5\n",
        "# The following two should equal less than 100\n",
        "Weakspot_Hit_Percentage = 80 # 0-100%\n",
        "Wound_Hit_percentage = 10 # 0-100%"
      ],
      "metadata": {
        "id": "CZhJ4b67eqpy"
      },
      "execution_count": 344,
      "outputs": []
    },
    {
      "cell_type": "markdown",
      "source": [
        "Sets (EDIT THESE)"
      ],
      "metadata": {
        "id": "8lGy06OLroF2"
      }
    },
    {
      "cell_type": "code",
      "source": [
        "# Change these variables to match your build\n",
        "\n",
        "Gore_Set_level_Two = False # True / False\n",
        "# The following two can not add up more than 100\n",
        "Frenzy_Uptime = 0 # 0-100%\n",
        "Overcome_Uptime = 0 # 0-100%"
      ],
      "metadata": {
        "id": "lHBdjBM0ruJl"
      },
      "execution_count": 345,
      "outputs": []
    },
    {
      "cell_type": "markdown",
      "source": [
        "Hunting Horn Songs (EDIT THESE)"
      ],
      "metadata": {
        "id": "7-UlEzk0DxsI"
      }
    },
    {
      "cell_type": "code",
      "source": [
        "Song_Self_Improvement = False # False / False\n",
        "\n",
        "Song_Attack_Up = SongLevel.NotPlayed # NotPlayed / S / L\n",
        "Song_Element_Attack_Boost = False # True / False\n",
        "\n",
        "Song_Affinity_Up = False # True / False"
      ],
      "metadata": {
        "id": "WrzZ4x-iD0FN"
      },
      "execution_count": 346,
      "outputs": []
    },
    {
      "cell_type": "markdown",
      "source": [
        "Weapon Skills"
      ],
      "metadata": {
        "id": "y9Yz39udTgWg"
      }
    },
    {
      "cell_type": "code",
      "source": [
        "def apply_attack_boost(raw, bonus_raw, attack_boost_level):\n",
        "  # this function applies the attack boost skill\n",
        "  # raw: is the raw attack value of a weapon\n",
        "  # bonus_raw: additional attack you get from armour skills etc.\n",
        "  # attack_boost_level: level of attack boost\n",
        "\n",
        "  if attack_boost_level == 1:\n",
        "    total_raw = raw + 3\n",
        "  elif attack_boost_level == 2:\n",
        "    total_raw = raw + 5\n",
        "  elif attack_boost_level == 3:\n",
        "    total_raw = raw + 7\n",
        "  elif attack_boost_level == 4:\n",
        "    total_raw = raw*1.02 + 8\n",
        "  elif attack_boost_level >= 5:\n",
        "    total_raw = raw*1.04 + 9\n",
        "  else:\n",
        "    total_raw = raw\n",
        "  total_raw = total_raw + bonus_raw\n",
        "  return total_raw"
      ],
      "metadata": {
        "id": "jhEI33Lc9Gcy"
      },
      "execution_count": 347,
      "outputs": []
    },
    {
      "cell_type": "code",
      "source": [
        "def apply_critical_boost(critical_boost_level):\n",
        "  # this function applies the critical boost skill\n",
        "  # critical_boost_level: level of the skill critical boost\n",
        "  critical_modifier = 1.25 +(critical_boost_level*0.03)\n",
        "  critical_modifier = min(critical_modifier, 1.4)\n",
        "  critical_modifier = max(critical_modifier, 1.25)\n",
        "  return critical_modifier"
      ],
      "metadata": {
        "id": "vN4usnY6-YAM"
      },
      "execution_count": 348,
      "outputs": []
    },
    {
      "cell_type": "code",
      "source": [
        "def apply_critical_element(critical_element_level):\n",
        "    match critical_element_level:\n",
        "      case 1:\n",
        "        critical_element = 1.05\n",
        "      case 2:\n",
        "        critical_element = 1.1\n",
        "      case 3:\n",
        "        critical_element = 1.15\n",
        "      case _:\n",
        "        critical_element = 1\n",
        "\n",
        "    return critical_element"
      ],
      "metadata": {
        "id": "l-grEgRsmPMu"
      },
      "execution_count": 349,
      "outputs": []
    },
    {
      "cell_type": "code",
      "source": [
        "def apply_critical_eye(critical_eye_level):\n",
        "  affinity = 4 * critical_eye_level\n",
        "  return affinity"
      ],
      "metadata": {
        "id": "7nhLwJL5HKRb"
      },
      "execution_count": 350,
      "outputs": []
    },
    {
      "cell_type": "markdown",
      "source": [
        "Armor Skills"
      ],
      "metadata": {
        "id": "t_ZvT-_TTRsz"
      }
    },
    {
      "cell_type": "code",
      "source": [
        "def apply_adrenaline_rush(adrenaline_rush_level):\n",
        "  match adrenaline_rush_level:\n",
        "    case 1:\n",
        "      attack = 10\n",
        "    case 2:\n",
        "      attack = 15\n",
        "    case 3:\n",
        "      attack = 20\n",
        "    case 4:\n",
        "      attack = 25\n",
        "    case 5:\n",
        "      attack = 30\n",
        "    case _:\n",
        "      attack = 0\n",
        "\n",
        "  return attack"
      ],
      "metadata": {
        "id": "O07-tyQN6WQM"
      },
      "execution_count": 351,
      "outputs": []
    },
    {
      "cell_type": "code",
      "source": [
        "def apply_agitator_attack(agitator_level):\n",
        "  match agitator_level:\n",
        "    case 1:\n",
        "      attack = 4\n",
        "    case 2:\n",
        "      attack = 8\n",
        "    case 3:\n",
        "      attack = 12\n",
        "    case 4:\n",
        "      attack = 16\n",
        "    case 5:\n",
        "      attack = 20\n",
        "    case _:\n",
        "      attack = 0\n",
        "\n",
        "  return attack"
      ],
      "metadata": {
        "id": "BCtNsOglaMFW"
      },
      "execution_count": 352,
      "outputs": []
    },
    {
      "cell_type": "code",
      "source": [
        "def apply_agitator_affinity(agitator_level):\n",
        "    match agitator_level:\n",
        "      case 1:\n",
        "        affinity = 4\n",
        "      case 2:\n",
        "        affinity = 8\n",
        "      case 3:\n",
        "        affinity = 12\n",
        "      case 4:\n",
        "        affinity = 16\n",
        "      case 5:\n",
        "        affinity = 20\n",
        "      case _:\n",
        "        affinity = 0\n",
        "\n",
        "    return affinity"
      ],
      "metadata": {
        "id": "7lWcf-Wianhy"
      },
      "execution_count": 353,
      "outputs": []
    },
    {
      "cell_type": "code",
      "source": [
        "def apply_foray_attack(foray_level):\n",
        "  match foray_level:\n",
        "    case 1:\n",
        "      attack = 6\n",
        "    case 2:\n",
        "      attack = 8\n",
        "    case 3:\n",
        "      attack = 10\n",
        "    case 4:\n",
        "      attack = 12\n",
        "    case 5:\n",
        "      attack = 15\n",
        "    case _:\n",
        "      attack = 0\n",
        "\n",
        "  return attack"
      ],
      "metadata": {
        "id": "8qFrkmR3YAec"
      },
      "execution_count": 354,
      "outputs": []
    },
    {
      "cell_type": "code",
      "source": [
        "def apply_foray_affinity(foray_level):\n",
        "    match foray_level:\n",
        "      case 2:\n",
        "        affinity = 5\n",
        "      case 3:\n",
        "        affinity = 10\n",
        "      case 4:\n",
        "        affinity = 15\n",
        "      case 5:\n",
        "        affinity = 20\n",
        "      case _:\n",
        "        affinity = 0\n",
        "\n",
        "    return affinity"
      ],
      "metadata": {
        "id": "q_vK49kHYPgB"
      },
      "execution_count": 355,
      "outputs": []
    },
    {
      "cell_type": "code",
      "source": [
        "def apply_antivirus(antivirus_level):\n",
        "  match antivirus_level:\n",
        "    case 1:\n",
        "      affinity = 3\n",
        "    case 2:\n",
        "      affinity = 6\n",
        "    case 3:\n",
        "      affinity = 10\n",
        "    case _:\n",
        "      affinity = 0\n",
        "\n",
        "  return affinity"
      ],
      "metadata": {
        "id": "qd-I0KVj2E9v"
      },
      "execution_count": 356,
      "outputs": []
    },
    {
      "cell_type": "code",
      "source": [
        "def apply_maximum_might(maximum_might_level):\n",
        "  match maximum_might_level:\n",
        "    case 1:\n",
        "      affinity = 10\n",
        "    case 2:\n",
        "      affinity = 20\n",
        "    case 3:\n",
        "      affinity = 30\n",
        "    case _:\n",
        "      affinity = 0\n",
        "\n",
        "  return affinity"
      ],
      "metadata": {
        "id": "M1gznEG6B4vO"
      },
      "execution_count": 357,
      "outputs": []
    },
    {
      "cell_type": "code",
      "source": [
        "def apply_weakness_exploit(weakness_exploit_level, is_hitting_wound):\n",
        "\n",
        "  wound_affinity = 0\n",
        "\n",
        "  match weakness_exploit_level:\n",
        "    case 1:\n",
        "      if is_hitting_wound:\n",
        "        wound_affinity = 3\n",
        "\n",
        "      weakness_affinity = 5\n",
        "      return weakness_affinity + wound_affinity\n",
        "\n",
        "    case 2:\n",
        "      if is_hitting_wound:\n",
        "        wound_affinity = 5\n",
        "\n",
        "      weakness_affinity = 10\n",
        "      return weakness_affinity + wound_affinity\n",
        "\n",
        "    case 3:\n",
        "      if is_hitting_wound:\n",
        "        wound_affinity = 10\n",
        "\n",
        "      weakness_affinity = 15\n",
        "      return weakness_affinity + wound_affinity\n",
        "\n",
        "    case 4:\n",
        "      if is_hitting_wound:\n",
        "        wound_affinity = 15\n",
        "\n",
        "      weakness_affinity = 20\n",
        "      return weakness_affinity + wound_affinity\n",
        "\n",
        "    case 5:\n",
        "      if is_hitting_wound:\n",
        "        wound_affinity = 20\n",
        "\n",
        "      weakness_affinity = 30\n",
        "      return weakness_affinity + wound_affinity\n",
        "\n",
        "    case _:\n",
        "      return 0\n"
      ],
      "metadata": {
        "id": "FAPR7q_ITYPd"
      },
      "execution_count": 358,
      "outputs": []
    },
    {
      "cell_type": "markdown",
      "source": [
        "Sets"
      ],
      "metadata": {
        "id": "Jr3jSs5zoe20"
      }
    },
    {
      "cell_type": "code",
      "source": [
        "def apply_gore_set_level_two(is_active, is_overcome):\n",
        "  if (is_active):\n",
        "    if (is_overcome):\n",
        "      attack = 15\n",
        "    else:\n",
        "      attack = 10\n",
        "  else:\n",
        "    attack = 0\n",
        "\n",
        "  return attack"
      ],
      "metadata": {
        "id": "rgSmwu-2okHq"
      },
      "execution_count": 359,
      "outputs": []
    },
    {
      "cell_type": "markdown",
      "source": [
        "Hunting Horn Songs"
      ],
      "metadata": {
        "id": "dAk3pmS3Ge3K"
      }
    },
    {
      "cell_type": "code",
      "source": [
        "def apply_song_self_improvement(is_active):\n",
        "  if is_active:\n",
        "    multiplier = 1.2\n",
        "  else:\n",
        "    multiplier = 1\n",
        "\n",
        "  return multiplier"
      ],
      "metadata": {
        "id": "fk9U9Wt5GhoN"
      },
      "execution_count": 360,
      "outputs": []
    },
    {
      "cell_type": "code",
      "source": [
        "def apply_song_attack_up(song_level):\n",
        "  match song_level:\n",
        "    case SongLevel.S:\n",
        "      multiplier = 1.05\n",
        "    case SongLevel.L:\n",
        "      multiplier = 1.1\n",
        "    case _:\n",
        "      multiplier = 1\n",
        "\n",
        "  return multiplier"
      ],
      "metadata": {
        "id": "R6NVMGkoHEiV"
      },
      "execution_count": 361,
      "outputs": []
    },
    {
      "cell_type": "code",
      "source": [
        "def apply_song_element_attack_boost(is_active):\n",
        "  if is_active:\n",
        "    multiplier = 1.1\n",
        "  else:\n",
        "    multiplier = 1\n",
        "\n",
        "  return multiplier"
      ],
      "metadata": {
        "id": "S2qPVDSkK3HX"
      },
      "execution_count": 362,
      "outputs": []
    },
    {
      "cell_type": "code",
      "source": [
        "def apply_song_affinity_up(is_active):\n",
        "  if is_active:\n",
        "    affinity = 15\n",
        "  else:\n",
        "    affinity = 0\n",
        "\n",
        "  return affinity"
      ],
      "metadata": {
        "id": "TSq8oYAgKUg4"
      },
      "execution_count": 363,
      "outputs": []
    },
    {
      "cell_type": "markdown",
      "source": [
        "Buffs"
      ],
      "metadata": {
        "id": "0xlUPTkLoo8v"
      }
    },
    {
      "cell_type": "code",
      "source": [
        "def apply_overcome_frenzy():\n",
        "  affinity = 15\n",
        "  return affinity"
      ],
      "metadata": {
        "id": "BWZN6rTbrUM8"
      },
      "execution_count": 364,
      "outputs": []
    },
    {
      "cell_type": "markdown",
      "source": [
        "Math"
      ],
      "metadata": {
        "id": "H_FZc1DCTovP"
      }
    },
    {
      "cell_type": "code",
      "source": [
        "def apply_raw_sharpness_modifier(sharpness):\n",
        "  match sharpness:\n",
        "    case Sharpness.Ranged:\n",
        "      sharpness_modifier =  1\n",
        "\n",
        "    case Sharpness.Red:\n",
        "      sharpness_modifier =  0.5\n",
        "\n",
        "    case Sharpness.Orange:\n",
        "      sharpness_modifier =  0.75\n",
        "\n",
        "    case Sharpness.Yellow:\n",
        "      sharpness_modifier =  1\n",
        "\n",
        "    case Sharpness.Green:\n",
        "      sharpness_modifier =  1.05\n",
        "\n",
        "    case sharpness.Blue:\n",
        "     sharpness_modifier =  1.20\n",
        "\n",
        "    case Sharpness.White:\n",
        "      sharpness_modifier =  1.33\n",
        "\n",
        "  return sharpness_modifier"
      ],
      "metadata": {
        "id": "bjWsB8ufb-t7"
      },
      "execution_count": 365,
      "outputs": []
    },
    {
      "cell_type": "code",
      "source": [
        "def apply_elemental_sharpness_modifier(sharpness):\n",
        "  match sharpness:\n",
        "    case Sharpness.Ranged:\n",
        "      sharpness_modifier =  1\n",
        "\n",
        "    case Sharpness.Red:\n",
        "      sharpness_modifier =  0.25\n",
        "\n",
        "    case Sharpness.Orange:\n",
        "      sharpness_modifier =  0.5\n",
        "\n",
        "    case Sharpness.Yellow:\n",
        "      sharpness_modifier =  .75\n",
        "\n",
        "    case Sharpness.Green:\n",
        "      sharpness_modifier =  1\n",
        "\n",
        "    case sharpness.Blue:\n",
        "     sharpness_modifier = 1.0625\n",
        "\n",
        "    case Sharpness.White:\n",
        "      sharpness_modifier =  1.15\n",
        "\n",
        "  return sharpness_modifier"
      ],
      "metadata": {
        "id": "ioKW_gkye6p-"
      },
      "execution_count": 366,
      "outputs": []
    },
    {
      "cell_type": "code",
      "source": [
        "#effective_critical_modifier = critical_modifier reduced by our affinity value\n",
        "\n",
        "def calculate_effective_critical_modifier(critical_modifier, affinity):\n",
        "  # calculates how much extra damage crits actually do, accounting for affinity\n",
        "  # critical_modifier: how much extra damage on hit\n",
        "  # affinity: affinity value\n",
        "  prop_of_crits = affinity / 100\n",
        "  prop_not_crits = 1 - prop_of_crits\n",
        "  damage_from_crits = prop_of_crits*critical_modifier\n",
        "  damage_from_not_crits = prop_not_crits * 1\n",
        "  effective_critical_modifier = damage_from_crits + damage_from_not_crits\n",
        "  return effective_critical_modifier\n"
      ],
      "metadata": {
        "id": "wYJx7hw_UvQw"
      },
      "execution_count": 367,
      "outputs": []
    },
    {
      "cell_type": "code",
      "source": [
        "def calculate_average_damage(raw, affinity):\n",
        "  # Agitator\n",
        "  agitator_bonus_damage = apply_agitator_attack(Agitator_Level)\n",
        "  agitator_affinity = apply_agitator_affinity(Agitator_Level)\n",
        "\n",
        "  if Agitator_Level == 0:\n",
        "    prop_of_agitator = 0\n",
        "  else:\n",
        "    prop_of_agitator = Agitator_Uptime / 100\n",
        "\n",
        "  prop_of_no_agitator = 1 - prop_of_agitator\n",
        "\n",
        "  # Foray\n",
        "  foray_bonus_damage = apply_foray_attack(Foray_Level)\n",
        "  foray_affinity = apply_foray_affinity(Foray_Level)\n",
        "\n",
        "  if Foray_Level == 0:\n",
        "    prop_of_foray = 0\n",
        "  else:\n",
        "    prop_of_foray = Foray_Uptime / 100\n",
        "\n",
        "  prop_of_no_foray = 1 - prop_of_foray\n",
        "\n",
        "  # Frenzy\n",
        "  frenzy_bonus_damage = apply_gore_set_level_two(Gore_Set_level_Two, False)\n",
        "\n",
        "  prop_of_frenzy = Frenzy_Uptime / 100\n",
        "  prop_of_no_frenzy = 1 - prop_of_frenzy\n",
        "\n",
        "  # Overcome Frenzy\n",
        "  overcome_bonus_damage = apply_gore_set_level_two(Gore_Set_level_Two, True)\n",
        "  overcome_affinity = apply_overcome_frenzy() + apply_antivirus(Antivirus_Level)\n",
        "\n",
        "  prop_of_overcome = Overcome_Uptime / 100\n",
        "  prop_of_no_overcome = 1 - prop_of_overcome\n",
        "\n",
        "\n",
        "  # Damage from different probabilities\n",
        "\n",
        "  # No Skill\n",
        "  prop_of_no_skill = prop_of_no_agitator * prop_of_no_foray * prop_of_no_overcome * prop_of_no_frenzy\n",
        "  damage_from_no_skill = prop_of_no_skill * calculate_damage(raw, affinity)\n",
        "\n",
        "  # Agitator Only\n",
        "  prop_of_agitator_only = prop_of_agitator * prop_of_no_foray * prop_of_no_overcome * prop_of_no_frenzy\n",
        "\n",
        "  agitator_only_raw = raw + agitator_bonus_damage\n",
        "  agitator_only_affinity = agitator_affinity + affinity\n",
        "\n",
        "  damage_from_agitator_only = prop_of_agitator_only * calculate_damage(agitator_only_raw, agitator_only_affinity)\n",
        "\n",
        "  # Foray Only\n",
        "  prop_of_foray_only = prop_of_no_agitator * prop_of_foray * prop_of_no_overcome * prop_of_no_frenzy\n",
        "\n",
        "  foray_only_raw = raw + foray_bonus_damage\n",
        "  foray_only_affinity = affinity + foray_affinity\n",
        "\n",
        "  damage_from_foray_only = prop_of_foray_only * calculate_damage(foray_only_raw, foray_only_affinity)\n",
        "\n",
        "  # Overcome Frenzy Only\n",
        "  prop_of_overcome_only = prop_of_no_agitator * prop_of_no_foray * prop_of_overcome\n",
        "\n",
        "  overcome_only_raw = raw + overcome_bonus_damage\n",
        "  overcome_only_affinity = affinity + overcome_affinity\n",
        "\n",
        "  damage_from_overcome_only = prop_of_overcome_only * calculate_damage(foray_only_raw, foray_only_affinity)\n",
        "\n",
        "  # Frenzy Only\n",
        "  prop_of_frenzy_only = prop_of_no_agitator * prop_of_no_foray * prop_of_frenzy\n",
        "\n",
        "  frenzy_only_raw = raw + frenzy_bonus_damage\n",
        "  frenzy_only_affinity = affinity + overcome_affinity\n",
        "\n",
        "  damage_from_frenzy_only = prop_of_frenzy_only * calculate_damage(frenzy_only_raw, frenzy_only_affinity)\n",
        "\n",
        "\n",
        "\n",
        "  # All Skills With Overcome\n",
        "  prop_of_all_skills_overcome = prop_of_agitator * prop_of_foray * prop_of_overcome * prop_of_overcome\n",
        "\n",
        "  all_skills_overcome_raw = raw + agitator_bonus_damage + foray_bonus_damage + overcome_bonus_damage + overcome_bonus_damage\n",
        "  all_skills_affinity = affinity + agitator_affinity + foray_affinity + overcome_affinity\n",
        "\n",
        "  damage_from_all_skills_overcome = prop_of_all_skills_overcome * calculate_damage(all_skills_overcome_raw, all_skills_affinity)\n",
        "\n",
        "  # All Skills With Frenzy\n",
        "  prop_of_all_skills_frenzy = prop_of_agitator * prop_of_foray * prop_of_overcome * prop_of_frenzy\n",
        "\n",
        "  all_skills_frenzy_raw = raw + agitator_bonus_damage + foray_bonus_damage + frenzy_bonus_damage\n",
        "  all_skills_frenzy_affinity = affinity + agitator_affinity + foray_affinity\n",
        "\n",
        "  damage_from_all_skills_frenzy = prop_of_all_skills_frenzy * calculate_damage(all_skills_frenzy_raw, all_skills_frenzy_affinity)\n",
        "\n",
        "  # All Skills No Frenzy\n",
        "  prop_of_all_skills_no_frenzy = prop_of_agitator * prop_of_foray * prop_of_overcome * prop_of_no_frenzy * prop_of_no_overcome\n",
        "\n",
        "  all_skills_no_frenzy_raw = raw + agitator_bonus_damage + foray_bonus_damage\n",
        "  all_skills_no_frenzy_affinity = affinity + agitator_affinity + foray_affinity\n",
        "\n",
        "  damage_from_all_skills_no_frenzy = prop_of_all_skills_no_frenzy * calculate_damage(all_skills_no_frenzy_raw, all_skills_no_frenzy_affinity)\n",
        "\n",
        "\n",
        "  # Agitator & Overcome\n",
        "  prop_of_agitator_overcome = prop_of_agitator * prop_of_no_foray * prop_of_overcome\n",
        "\n",
        "  agitator_overcome_raw = raw + agitator_bonus_damage + overcome_bonus_damage\n",
        "  agitator_overcome_affinity = affinity + agitator_affinity + overcome_affinity\n",
        "\n",
        "  damage_from_agitator_overcome = prop_of_agitator_overcome * calculate_damage(agitator_overcome_raw, agitator_overcome_affinity)\n",
        "\n",
        "  # Agitator &  Frenzy\n",
        "  prop_of_agitator_frenzy = prop_of_agitator * prop_of_no_foray * prop_of_frenzy\n",
        "\n",
        "  agitator_frenzy_raw = raw + agitator_bonus_damage + frenzy_bonus_damage\n",
        "  agitator_frenzy_affinity = affinity + agitator_affinity\n",
        "\n",
        "  damage_from_agitator_frenzy = prop_of_agitator_frenzy * calculate_damage(agitator_frenzy_raw, agitator_frenzy_affinity)\n",
        "\n",
        "\n",
        "  # Foray & overcome\n",
        "  prop_of_foray_overcome = prop_of_no_agitator * prop_of_foray * prop_of_overcome\n",
        "\n",
        "  foray_overcome_raw = raw + foray_bonus_damage + overcome_bonus_damage\n",
        "  foray_overcome_affinity = affinity + foray_affinity + overcome_affinity\n",
        "\n",
        "  damage_from_foray_overcome = prop_of_foray_overcome * calculate_damage(foray_overcome_raw, foray_overcome_affinity)\n",
        "\n",
        "  # Foray & Frenzy\n",
        "  prop_of_foray_frenzy = prop_of_no_agitator * prop_of_foray * prop_of_frenzy\n",
        "\n",
        "  foray_frenzy_raw = raw + foray_bonus_damage + frenzy_bonus_damage\n",
        "  foray_frenzy_affinity = affinity + foray_affinity\n",
        "\n",
        "  damage_from_foray_frenzy = prop_of_foray_frenzy * calculate_damage(foray_frenzy_raw, foray_frenzy_affinity)\n",
        "\n",
        "\n",
        "  # Average Damage\n",
        "  average_damage = damage_from_no_skill + damage_from_agitator_only + damage_from_foray_only + damage_from_overcome_only + damage_from_frenzy_only + damage_from_all_skills_overcome + damage_from_all_skills_frenzy + damage_from_all_skills_no_frenzy + damage_from_agitator_overcome + damage_from_agitator_frenzy + damage_from_foray_overcome + damage_from_foray_frenzy\n",
        "\n",
        "  return average_damage"
      ],
      "metadata": {
        "id": "9yY970oFKmXp"
      },
      "execution_count": 368,
      "outputs": []
    },
    {
      "cell_type": "code",
      "source": [
        "def calculate_damage(raw, affinity):\n",
        "  critical_modifier = apply_critical_boost(Critical_Boost_Level)\n",
        "\n",
        "  effective_critical_modifier = calculate_effective_critical_modifier(critical_modifier, affinity)\n",
        "\n",
        "  damage = raw * apply_raw_sharpness_modifier(Sharpness) * effective_critical_modifier\n",
        "  return damage\n"
      ],
      "metadata": {
        "id": "KdGGTCn1BOdc"
      },
      "execution_count": 369,
      "outputs": []
    },
    {
      "cell_type": "code",
      "source": [
        "def calculate_elemental_damage(elemental, affinity, critical_element_level):\n",
        "  critical_modifier = apply_critical_element(critical_element_level)\n",
        "  effective_critical_modifier = calculate_effective_critical_modifier(critical_modifier, affinity)\n",
        "\n",
        "  damage = elemental * apply_elemental_sharpness_modifier(Sharpness) * effective_critical_modifier\n",
        "  return damage"
      ],
      "metadata": {
        "id": "R8KOMBKqf_Nq"
      },
      "execution_count": 370,
      "outputs": []
    },
    {
      "cell_type": "code",
      "source": [
        "def find_difference(raw, bonus_raw, affinity,\n",
        "                    attack_boost_level_a,\n",
        "                    critical_boost_level_a,\n",
        "                    attack_boost_level_b,\n",
        "                    critical_boost_level_b):\n",
        "\n",
        "  damage_a = calculate_damage(raw, bonus_raw, affinity,\n",
        "                              attack_boost_level_a, critical_boost_level_a)\n",
        "  damage_b = calculate_damage(raw, bonus_raw, affinity,\n",
        "                              attack_boost_level_b, critical_boost_level_b)\n",
        "  difference_as_percent = (damage_a - damage_b)/damage_a\n",
        "\n",
        "  return difference_as_percent"
      ],
      "metadata": {
        "id": "I7VHskzSCFGL"
      },
      "execution_count": 371,
      "outputs": []
    },
    {
      "cell_type": "code",
      "source": [
        "def calculate_total_effective_affinity(affinity):\n",
        "  # The following Skills are calculated later: Agitator\n",
        "\n",
        "  base_affinity = affinity + apply_critical_eye(Critical_Eye_Level)\n",
        "\n",
        "  # Maximum Might\n",
        "  maximum_might_affinity = calculate_effective_affinity(Maximum_Might_Uptime, apply_maximum_might(Maximum_Might_Level))\n",
        "\n",
        "  # Weakness Exploit\n",
        "  weakness_affinity = calculate_effective_affinity(Weakspot_Hit_Percentage, apply_weakness_exploit(Weakness_Exploit_level, False))\n",
        "  wound_affinity = calculate_effective_affinity(Wound_Hit_percentage, apply_weakness_exploit(Weakness_Exploit_level, True))\n",
        "\n",
        "  # Hunting Horn Songs\n",
        "  song_affinity = apply_song_affinity_up(Song_Affinity_Up)\n",
        "\n",
        "  return base_affinity + maximum_might_affinity + weakness_affinity + wound_affinity + song_affinity"
      ],
      "metadata": {
        "id": "nf9AfEaDH9zb"
      },
      "execution_count": 372,
      "outputs": []
    },
    {
      "cell_type": "code",
      "source": [
        "def calculate_effective_affinity(uptime, affinity):\n",
        "  prop = uptime / 100\n",
        "  effective_affinity = prop * affinity\n",
        "\n",
        "  return effective_affinity"
      ],
      "metadata": {
        "id": "7_3Vuy89NqVI"
      },
      "execution_count": 373,
      "outputs": []
    },
    {
      "cell_type": "code",
      "source": [
        "def add_duel_effects_for_estimated_affinity(affinity):\n",
        "  # This is for estimating the total effective affinity for the user\n",
        "\n",
        "  # Agitator\n",
        "  prop_of_agitator = Agitator_Uptime / 100\n",
        "  agitator_affinity = prop_of_agitator * apply_agitator_affinity(Agitator_Level)\n",
        "\n",
        "  # Foray\n",
        "  prop_of_foray = Foray_Uptime / 100\n",
        "  foray_affinity = prop_of_foray * apply_foray_affinity(Foray_Level)\n",
        "\n",
        "  # Frenzy\n",
        "\n",
        "  # Overcome Frenzy\n",
        "  prop_of_overcome = Overcome_Uptime / 100\n",
        "  frenzy_affinity = prop_of_overcome * (apply_overcome_frenzy() + apply_antivirus(Antivirus_Level))\n",
        "\n",
        "  return affinity + agitator_affinity + frenzy_affinity + foray_affinity"
      ],
      "metadata": {
        "id": "xEq-fHn9JboM"
      },
      "execution_count": 374,
      "outputs": []
    },
    {
      "cell_type": "code",
      "source": [
        "def calculate_total_effective_bonus_damage():\n",
        "  # The following Skills are calculated later: Agitator\n",
        "  #effective_agitator = calculate_effective_bonus_damage(Agitator_Uptime, apply_agitator_attack(Agitator_Level))\n",
        "\n",
        "  # Adrenaline Rush\n",
        "  effective_adrenaline_rush = calculate_effective_bonus_damage(Adrenaline_Rush_Uptime, apply_adrenaline_rush(Adrenaline_Rush_Level))\n",
        "\n",
        "  effective_bonus_damage = effective_adrenaline_rush # + effective_agitator\n",
        "  return effective_bonus_damage"
      ],
      "metadata": {
        "id": "tQCf8l88XrJa"
      },
      "execution_count": 375,
      "outputs": []
    },
    {
      "cell_type": "code",
      "source": [
        "def calculate_effective_bonus_damage(uptime, attack):\n",
        "  prop = uptime / 100\n",
        "  effective_bonus_damage = prop * attack\n",
        "\n",
        "  return effective_bonus_damage"
      ],
      "metadata": {
        "id": "InOUvIkyLWFE"
      },
      "execution_count": 376,
      "outputs": []
    },
    {
      "cell_type": "code",
      "source": [
        "def calculate_effective_raw():\n",
        "  effective_bonus_raw = calculate_total_effective_bonus_damage()\n",
        "\n",
        "  attack_boost_damage = apply_attack_boost(Attack, effective_bonus_raw, Attack_Boost_Level)\n",
        "\n",
        "  song_self_improvement_modifier = apply_song_self_improvement(Song_Self_Improvement)\n",
        "  song_attack_up_modifier = apply_song_attack_up(Song_Attack_Up)\n",
        "\n",
        "  effective_total_raw = attack_boost_damage * song_self_improvement_modifier\n",
        "  return effective_total_raw"
      ],
      "metadata": {
        "id": "aGkUPqJAJTjm"
      },
      "execution_count": 377,
      "outputs": []
    },
    {
      "cell_type": "code",
      "source": [
        "def add_duel_effects_for_estimated_raw(raw):\n",
        "  # Agitator\n",
        "  effective_agitator = (Agitator_Uptime / 100) * calculate_effective_bonus_damage(Agitator_Uptime, apply_agitator_attack(Agitator_Level))\n",
        "\n",
        "  # Foray\n",
        "  effective_foray = (Foray_Uptime / 100) * calculate_effective_bonus_damage(Foray_Uptime, apply_foray_attack(Foray_Level))\n",
        "\n",
        "  # Frenzy\n",
        "  effective_frenzy = (Frenzy_Uptime / 100) * calculate_effective_bonus_damage(Frenzy_Uptime, apply_gore_set_level_two(Gore_Set_level_Two, False))\n",
        "  effective_overcome = (Overcome_Uptime / 100) * calculate_effective_bonus_damage(Overcome_Uptime, apply_gore_set_level_two(Gore_Set_level_Two, False))\n",
        "\n",
        "  effective_total_raw = raw + effective_agitator + effective_foray + effective_frenzy + effective_overcome\n",
        "  return effective_total_raw\n"
      ],
      "metadata": {
        "id": "8dCH5g_WLfe1"
      },
      "execution_count": 378,
      "outputs": []
    },
    {
      "cell_type": "code",
      "source": [
        "def calculate_base_element(element):\n",
        "  base_element = element * apply_song_element_attack_boost(Song_Element_Attack_Boost)\n",
        "  return base_element"
      ],
      "metadata": {
        "id": "fTN1tVqeLTZ7"
      },
      "execution_count": 379,
      "outputs": []
    },
    {
      "cell_type": "markdown",
      "source": [
        "Logic"
      ],
      "metadata": {
        "id": "TsUuHwVDfMrg"
      }
    },
    {
      "cell_type": "code",
      "source": [
        "effective_total_raw = calculate_effective_raw()\n",
        "print(\"Effective Raw: \" + str(add_duel_effects_for_estimated_raw(effective_total_raw)))\n",
        "\n",
        "base_element = calculate_base_element(Element)\n",
        "print(\"Base Elemental: \" + str(base_element))\n",
        "\n",
        "effective_affinity = calculate_total_effective_affinity(Affinity)\n",
        "print(\"Effective Affinity: \" + str(add_duel_effects_for_estimated_affinity(effective_affinity)))\n",
        "\n",
        "effective_damage = calculate_average_damage(effective_total_raw, effective_affinity)\n",
        "print(\"Effective Attack: \" + str(effective_damage))\n",
        "\n",
        "effective_elemental = calculate_elemental_damage(Element, effective_affinity, Critical_Element_Level)\n",
        "print(\"Effective Elemental: \" + str(effective_elemental))"
      ],
      "metadata": {
        "colab": {
          "base_uri": "https://localhost:8080/"
        },
        "id": "eiBKGck4fRHQ",
        "outputId": "f951ce0b-252a-492b-d32a-afbec513306c"
      },
      "execution_count": 380,
      "outputs": [
        {
          "output_type": "stream",
          "name": "stdout",
          "text": [
            "Effective Raw: 213.75\n",
            "Base Elemental: 400\n",
            "Effective Affinity: 10.0\n",
            "Effective Attack: 223.125\n",
            "Effective Elemental: 300.0\n"
          ]
        }
      ]
    },
    {
      "cell_type": "markdown",
      "source": [
        "Credit / Thanks"
      ],
      "metadata": {
        "id": "nDs-0q1L_DZ4"
      }
    },
    {
      "cell_type": "code",
      "source": [
        "# Numbers of some abilities and thanks for inspiration goes to this https://mhwilds-calculator.app/\n",
        "# Some code comes from https://colab.research.google.com/drive/1Eb6Av4jwWawMREHYEhCmnobjQu_BZqDV made by https://www.youtube.com/@dreamingsuntide1 and a special thanks goes to him"
      ],
      "metadata": {
        "id": "k17WjCVA_F2F"
      },
      "execution_count": 381,
      "outputs": []
    }
  ]
}